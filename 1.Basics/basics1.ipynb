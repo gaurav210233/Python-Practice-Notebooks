{
 "cells": [
  {
   "cell_type": "markdown",
   "metadata": {},
   "source": [
    "# Basics - I\n",
    "Resource - [Questions](https://www.w3resource.com/python-exercises/python-basic-exercises.php) "
   ]
  },
  {
   "cell_type": "code",
   "execution_count": 102,
   "metadata": {},
   "outputs": [
    {
     "name": "stdout",
     "output_type": "stream",
     "text": [
      "Twinkle, twinkle, little star, \n",
      "\tHow I wonder what you are! \n",
      "\t\tUp above the world so high, \n",
      "\t\tLike a diamond in the sky. \n",
      "Twinkle, twinkle, little star, \n",
      "\tHow I wonder what you are!\n"
     ]
    }
   ],
   "source": [
    "# 1. Formatted Twinkle Poem\n",
    "print(\"Twinkle, twinkle, little star, \\n\\tHow I wonder what you are! \\n\\t\\tUp above the world so high, \\n\\t\\tLike a diamond in the sky. \\nTwinkle, twinkle, little star, \\n\\tHow I wonder what you are!\")\n"
   ]
  },
  {
   "cell_type": "code",
   "execution_count": 103,
   "metadata": {},
   "outputs": [
    {
     "name": "stdout",
     "output_type": "stream",
     "text": [
      "Python version: 3.13.1 (main, Dec  4 2024, 18:05:56) [GCC 14.2.1 20240910]\n",
      "Python version 3.13.1 (main, Dec  4 2024, 18:05:56) [GCC 14.2.1 20240910] -> Yay Checked\n"
     ]
    }
   ],
   "source": [
    "# 2. Python Version Checker\n",
    "import sys\n",
    "\n",
    "print(f'Python version: {sys.version}')\n",
    "print(\"Python version {} -> {}\".format(sys.version, \"Yay Checked\"))\n"
   ]
  },
  {
   "cell_type": "markdown",
   "metadata": {},
   "source": [
    "> Note: [`sys` module](https://www.geeksforgeeks.org/python-sys-module/)"
   ]
  },
  {
   "cell_type": "code",
   "execution_count": 104,
   "metadata": {},
   "outputs": [
    {
     "name": "stdout",
     "output_type": "stream",
     "text": [
      "Current date and time : 2025-01-25 21:13:13\n"
     ]
    }
   ],
   "source": [
    "# 3. Current DateTime Display\n",
    "import datetime as datetime\n",
    "\n",
    "current_datetime = datetime.datetime.now()\n",
    "\n",
    "print(f\"Current date and time : {current_datetime.strftime('%Y-%m-%d %H:%M:%S')}\")\n"
   ]
  },
  {
   "cell_type": "markdown",
   "metadata": {},
   "source": [
    "> Note : [`datetime` module](https://www.geeksforgeeks.org/python-sys-module/)\n"
   ]
  },
  {
   "cell_type": "code",
   "execution_count": 106,
   "metadata": {},
   "outputs": [
    {
     "name": "stdout",
     "output_type": "stream",
     "text": [
      "Area of circle with radius 2.0 is 12.57 units\n"
     ]
    }
   ],
   "source": [
    "# 4. Circle Area Calculator\n",
    "import math\n",
    "\n",
    "radius = float(input(\"Enter the radius of circle to calculate the area: \"))\n",
    "print(f\"Area of circle with radius {radius} is {round(math.pi * (radius ** 2), 2)} units\")"
   ]
  },
  {
   "cell_type": "code",
   "execution_count": 50,
   "metadata": {},
   "outputs": [
    {
     "name": "stdout",
     "output_type": "stream",
     "text": [
      "Bankar Gaurav\n"
     ]
    }
   ],
   "source": [
    "# 5. Reverse Full Name\n",
    "fname = input(\"Enter your first name\")\n",
    "lname = input(\"Enter your last name\")\n",
    "\n",
    "print(f\"{lname} {fname}\")\n"
   ]
  },
  {
   "cell_type": "code",
   "execution_count": 53,
   "metadata": {},
   "outputs": [
    {
     "name": "stdout",
     "output_type": "stream",
     "text": [
      "[1, 2, 3, 4, 5, 6, 7]\n",
      "(1, 2, 3, 4, 5, 6, 7)\n"
     ]
    }
   ],
   "source": [
    "# 6. List and Tuple Generator\n",
    "nums = input(\"sequence of comma-separated numbers \")\n",
    "\n",
    "my_list = []\n",
    "\n",
    "for char in nums:\n",
    "    if char != ',':\n",
    "        my_list.append(int(char))\n",
    "        \n",
    "\n",
    "my_tuple = tuple(my_list)\n",
    "\n",
    "print(my_list)\n",
    "print(my_tuple)"
   ]
  },
  {
   "cell_type": "markdown",
   "metadata": {},
   "source": [
    "> Note: [`split()` function](https://www.geeksforgeeks.org/python-string-split/), [`String` functions](https://www.tutorialspoint.com/python/python_string_methods.htm)"
   ]
  },
  {
   "cell_type": "code",
   "execution_count": 56,
   "metadata": {},
   "outputs": [
    {
     "name": "stdout",
     "output_type": "stream",
     "text": [
      "List:  ['1', '2', '3', '4', '5', '6', '7', '8', '9'] \n",
      "Tuple:  ('1', '2', '3', '4', '5', '6', '7', '8', '9')\n"
     ]
    }
   ],
   "source": [
    "# 6. List and Tuple Generator - M2\n",
    "nums = input(\"sequence of comma-separated numbers \")\n",
    "\n",
    "my_list = nums.split(',')\n",
    "my_tuple = tuple(my_list)\n",
    "\n",
    "print(\"List: \", my_list, \"\\nTuple: \", my_tuple)\n"
   ]
  },
  {
   "cell_type": "code",
   "execution_count": 62,
   "metadata": {},
   "outputs": [
    {
     "name": "stdout",
     "output_type": "stream",
     "text": [
      "File Extension is: 'jav'\n"
     ]
    }
   ],
   "source": [
    "# 7. File Extension Extractor\n",
    "filename = input(\"Enter the file name: \")\n",
    "extension = filename.split('.')[-1]\n",
    "print(f\"File Extension is: '{extension}'\")"
   ]
  },
  {
   "cell_type": "code",
   "execution_count": 69,
   "metadata": {},
   "outputs": [
    {
     "name": "stdout",
     "output_type": "stream",
     "text": [
      "Red Black\n",
      "Red Black\n"
     ]
    }
   ],
   "source": [
    "# 8. First and Last Colors\n",
    "color_list = [\"Red\",\"Green\",\"White\" ,\"Black\"]\n",
    "n = len(color_list)\n",
    "print(color_list[0], color_list[-1])\n",
    "print(color_list[-(n)], color_list[n-1])"
   ]
  },
  {
   "cell_type": "code",
   "execution_count": 75,
   "metadata": {},
   "outputs": [
    {
     "name": "stdout",
     "output_type": "stream",
     "text": [
      "11/12/2014\n"
     ]
    }
   ],
   "source": [
    "# 9. Exam Schedule Formatter\n",
    "exam_st_date = (11, 12, 2014)\n",
    "formatted_date = '/'.join(str(x) for x in exam_st_date)\n",
    "print(formatted_date)"
   ]
  },
  {
   "cell_type": "code",
   "execution_count": 112,
   "metadata": {},
   "outputs": [
    {
     "name": "stdout",
     "output_type": "stream",
     "text": [
      "1107\n"
     ]
    }
   ],
   "source": [
    "# 10. Number Expansion Calculator\n",
    "n = int(input(\"Enter any number\"))\n",
    "result = 0\n",
    "for i in range(1, 4):\n",
    "    result = result + int(str(n) * i)\n",
    "\n",
    "print(result)"
   ]
  },
  {
   "cell_type": "code",
   "execution_count": 118,
   "metadata": {},
   "outputs": [
    {
     "name": "stdout",
     "output_type": "stream",
     "text": [
      "615\n"
     ]
    }
   ],
   "source": [
    "# 10. Number Expansion Calculator\n",
    "n = int(input(\"Enter any number\"))\n",
    "result = 0\n",
    "current = n\n",
    "for i in range(1, 4):\n",
    "    result += current\n",
    "    current = current * 10 + n\n",
    "\n",
    "print(result)"
   ]
  },
  {
   "cell_type": "code",
   "execution_count": 95,
   "metadata": {},
   "outputs": [
    {
     "name": "stdout",
     "output_type": "stream",
     "text": [
      "int([x]) -> integer\n",
      "int(x, base=10) -> integer\n",
      "\n",
      "Convert a number or string to an integer, or return 0 if no arguments\n",
      "are given.  If x is a number, return x.__int__().  For floating-point\n",
      "numbers, this truncates towards zero.\n",
      "\n",
      "If x is not a number or if base is given, then x must be a string,\n",
      "bytes, or bytearray instance representing an integer literal in the\n",
      "given base.  The literal can be preceded by '+' or '-' and be surrounded\n",
      "by whitespace.  The base defaults to 10.  Valid bases are 0 and 2-36.\n",
      "Base 0 means to interpret the base from the string as an integer literal.\n",
      ">>> int('0b100', base=0)\n",
      "4\n",
      "-> Return the absolute value of the argument.\n"
     ]
    }
   ],
   "source": [
    "# 11. Function Documentation Printer\n",
    "\n",
    "print(abs(-1).__doc__)\n",
    "print(\"->\", abs.__doc__)"
   ]
  },
  {
   "cell_type": "code",
   "execution_count": null,
   "metadata": {},
   "outputs": [
    {
     "name": "stdout",
     "output_type": "stream",
     "text": [
      "    January 2025\n",
      "Mo Tu We Th Fr Sa Su\n",
      "       1  2  3  4  5\n",
      " 6  7  8  9 10 11 12\n",
      "13 14 15 16 17 18 19\n",
      "20 21 22 23 24 25 26\n",
      "27 28 29 30 31\n",
      "\n"
     ]
    }
   ],
   "source": [
    "# 12. Monthly Calendar Display\n",
    "import calendar\n",
    "\n",
    "year = int(input(\"Year\"))\n",
    "month = int(input(\"Month\"))\n",
    "\n",
    "print(calendar.month(year, month))"
   ]
  },
  {
   "cell_type": "markdown",
   "metadata": {},
   "source": [
    "> Note: [`calender` module](https://www.geeksforgeeks.org/python-calendar-module/)"
   ]
  },
  {
   "cell_type": "code",
   "execution_count": null,
   "metadata": {},
   "outputs": [],
   "source": [
    "# 13. Multi-line Here Document"
   ]
  }
 ],
 "metadata": {
  "kernelspec": {
   "display_name": "practice_nb_env",
   "language": "python",
   "name": "python3"
  },
  "language_info": {
   "codemirror_mode": {
    "name": "ipython",
    "version": 3
   },
   "file_extension": ".py",
   "mimetype": "text/x-python",
   "name": "python",
   "nbconvert_exporter": "python",
   "pygments_lexer": "ipython3",
   "version": "3.13.1"
  }
 },
 "nbformat": 4,
 "nbformat_minor": 2
}
